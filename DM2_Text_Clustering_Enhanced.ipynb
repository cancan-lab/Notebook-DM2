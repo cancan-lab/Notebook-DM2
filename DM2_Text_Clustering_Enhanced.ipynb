{
  "cells": [
    {
      "cell_type": "markdown",
      "metadata": {
        "id": "view-in-github",
        "colab_type": "text"
      },
      "source": [
        "<a href=\"https://colab.research.google.com/github/cancan-lab/Notebook-DM2/blob/main/DM2_Text_Clustering_Enhanced.ipynb\" target=\"_parent\"><img src=\"https://colab.research.google.com/assets/colab-badge.svg\" alt=\"Open In Colab\"/></a>"
      ]
    },
    {
      "cell_type": "markdown",
      "id": "71c68b6b",
      "metadata": {
        "id": "71c68b6b"
      },
      "source": [
        "# UTS DM2 — TEXT Clustering (Enhanced)\n",
        "\n",
        "Peningkatan kualitas pemisahan tema:\n",
        "- Gunakan **`overview` saja**\n",
        "- **Stopword domain** (film/movie/story/life/new/man/woman/time/group/series, dll.)\n",
        "- **N-gram** hingga **bi-gram**\n",
        "- **TF‑IDF → LSA (TruncatedSVD)**\n",
        "- **KMeans** (approx. cosine, L2-normalized)\n",
        "- **UMAP (cosine)** dengan `n_neighbors` lebih besar\n",
        "- **(Opsional) Sentence Embeddings**\n",
        "- Ekspor artefak & kata kunci per cluster\n"
      ]
    },
    {
      "cell_type": "markdown",
      "id": "3bfd388e",
      "metadata": {
        "id": "3bfd388e"
      },
      "source": [
        "## 0) Install & Import"
      ]
    },
    {
      "cell_type": "code",
      "execution_count": 1,
      "id": "0db9b153",
      "metadata": {
        "id": "0db9b153"
      },
      "outputs": [],
      "source": [
        "# !pip install umap-learn sentence-transformers -q\n",
        "\n",
        "import pandas as pd, numpy as np, re, os, json\n",
        "from pathlib import Path\n",
        "from sklearn.feature_extraction.text import TfidfVectorizer\n",
        "from sklearn.preprocessing import normalize\n",
        "from sklearn.decomposition import TruncatedSVD\n",
        "from sklearn.cluster import KMeans, AgglomerativeClustering\n",
        "from sklearn.metrics import silhouette_score, calinski_harabasz_score, davies_bouldin_score\n",
        "from sklearn.metrics import pairwise_distances\n",
        "import umap\n",
        "import matplotlib.pyplot as plt\n",
        "\n",
        "RNG = np.random.RandomState(42)"
      ]
    },
    {
      "cell_type": "markdown",
      "id": "f6e02d9c",
      "metadata": {
        "id": "f6e02d9c"
      },
      "source": [
        "## 1) Load CSV (semicolon) & pilih kolom"
      ]
    },
    {
      "cell_type": "code",
      "execution_count": 2,
      "id": "6a047541",
      "metadata": {
        "colab": {
          "base_uri": "https://localhost:8080/",
          "height": 223
        },
        "id": "6a047541",
        "outputId": "b53700ad-661c-4eb1-e069-2beb840bc2dd"
      },
      "outputs": [
        {
          "output_type": "stream",
          "name": "stdout",
          "text": [
            "(10000, 4)\n"
          ]
        },
        {
          "output_type": "execute_result",
          "data": {
            "text/plain": [
              "       id                                title  \\\n",
              "0  385687                               Fast X   \n",
              "1  603692                 John Wick: Chapter 4   \n",
              "2  502356          The Super Mario Bros. Movie   \n",
              "3  569094  Spider-Man: Across the Spider-Verse   \n",
              "4  536437                             Hypnotic   \n",
              "\n",
              "                                            overview  \\\n",
              "0  Over many missions and against impossible odds...   \n",
              "1  With the price on his head ever increasing, Jo...   \n",
              "2  While working underground to fix a water main,...   \n",
              "3  After reuniting with Gwen Stacy, Brooklyn’s fu...   \n",
              "4  A detective becomes entangled in a mystery inv...   \n",
              "\n",
              "                                   tagline  \n",
              "0              The end of the road begins.  \n",
              "1                No way back, one way out.  \n",
              "2                                      NaN  \n",
              "3  It's how you wear the mask that matters  \n",
              "4                  Control is an illusion.  "
            ],
            "text/html": [
              "\n",
              "  <div id=\"df-682e3d17-4ec9-4e33-8a39-f8a809bf0577\" class=\"colab-df-container\">\n",
              "    <div>\n",
              "<style scoped>\n",
              "    .dataframe tbody tr th:only-of-type {\n",
              "        vertical-align: middle;\n",
              "    }\n",
              "\n",
              "    .dataframe tbody tr th {\n",
              "        vertical-align: top;\n",
              "    }\n",
              "\n",
              "    .dataframe thead th {\n",
              "        text-align: right;\n",
              "    }\n",
              "</style>\n",
              "<table border=\"1\" class=\"dataframe\">\n",
              "  <thead>\n",
              "    <tr style=\"text-align: right;\">\n",
              "      <th></th>\n",
              "      <th>id</th>\n",
              "      <th>title</th>\n",
              "      <th>overview</th>\n",
              "      <th>tagline</th>\n",
              "    </tr>\n",
              "  </thead>\n",
              "  <tbody>\n",
              "    <tr>\n",
              "      <th>0</th>\n",
              "      <td>385687</td>\n",
              "      <td>Fast X</td>\n",
              "      <td>Over many missions and against impossible odds...</td>\n",
              "      <td>The end of the road begins.</td>\n",
              "    </tr>\n",
              "    <tr>\n",
              "      <th>1</th>\n",
              "      <td>603692</td>\n",
              "      <td>John Wick: Chapter 4</td>\n",
              "      <td>With the price on his head ever increasing, Jo...</td>\n",
              "      <td>No way back, one way out.</td>\n",
              "    </tr>\n",
              "    <tr>\n",
              "      <th>2</th>\n",
              "      <td>502356</td>\n",
              "      <td>The Super Mario Bros. Movie</td>\n",
              "      <td>While working underground to fix a water main,...</td>\n",
              "      <td>NaN</td>\n",
              "    </tr>\n",
              "    <tr>\n",
              "      <th>3</th>\n",
              "      <td>569094</td>\n",
              "      <td>Spider-Man: Across the Spider-Verse</td>\n",
              "      <td>After reuniting with Gwen Stacy, Brooklyn’s fu...</td>\n",
              "      <td>It's how you wear the mask that matters</td>\n",
              "    </tr>\n",
              "    <tr>\n",
              "      <th>4</th>\n",
              "      <td>536437</td>\n",
              "      <td>Hypnotic</td>\n",
              "      <td>A detective becomes entangled in a mystery inv...</td>\n",
              "      <td>Control is an illusion.</td>\n",
              "    </tr>\n",
              "  </tbody>\n",
              "</table>\n",
              "</div>\n",
              "    <div class=\"colab-df-buttons\">\n",
              "      \n",
              "  <div class=\"colab-df-container\">\n",
              "    <button class=\"colab-df-convert\" onclick=\"convertToInteractive('df-682e3d17-4ec9-4e33-8a39-f8a809bf0577')\"\n",
              "            title=\"Convert this dataframe to an interactive table.\"\n",
              "            style=\"display:none;\">\n",
              "      \n",
              "  <svg xmlns=\"http://www.w3.org/2000/svg\" height=\"24px\" viewBox=\"0 -960 960 960\">\n",
              "    <path d=\"M120-120v-720h720v720H120Zm60-500h600v-160H180v160Zm220 220h160v-160H400v160Zm0 220h160v-160H400v160ZM180-400h160v-160H180v160Zm440 0h160v-160H620v160ZM180-180h160v-160H180v160Zm440 0h160v-160H620v160Z\"/>\n",
              "  </svg>\n",
              "    </button>\n",
              "    \n",
              "  <style>\n",
              "    .colab-df-container {\n",
              "      display:flex;\n",
              "      gap: 12px;\n",
              "    }\n",
              "\n",
              "    .colab-df-convert {\n",
              "      background-color: #E8F0FE;\n",
              "      border: none;\n",
              "      border-radius: 50%;\n",
              "      cursor: pointer;\n",
              "      display: none;\n",
              "      fill: #1967D2;\n",
              "      height: 32px;\n",
              "      padding: 0 0 0 0;\n",
              "      width: 32px;\n",
              "    }\n",
              "\n",
              "    .colab-df-convert:hover {\n",
              "      background-color: #E2EBFA;\n",
              "      box-shadow: 0px 1px 2px rgba(60, 64, 67, 0.3), 0px 1px 3px 1px rgba(60, 64, 67, 0.15);\n",
              "      fill: #174EA6;\n",
              "    }\n",
              "\n",
              "    .colab-df-buttons div {\n",
              "      margin-bottom: 4px;\n",
              "    }\n",
              "\n",
              "    [theme=dark] .colab-df-convert {\n",
              "      background-color: #3B4455;\n",
              "      fill: #D2E3FC;\n",
              "    }\n",
              "\n",
              "    [theme=dark] .colab-df-convert:hover {\n",
              "      background-color: #434B5C;\n",
              "      box-shadow: 0px 1px 3px 1px rgba(0, 0, 0, 0.15);\n",
              "      filter: drop-shadow(0px 1px 2px rgba(0, 0, 0, 0.3));\n",
              "      fill: #FFFFFF;\n",
              "    }\n",
              "  </style>\n",
              "\n",
              "    <script>\n",
              "      const buttonEl =\n",
              "        document.querySelector('#df-682e3d17-4ec9-4e33-8a39-f8a809bf0577 button.colab-df-convert');\n",
              "      buttonEl.style.display =\n",
              "        google.colab.kernel.accessAllowed ? 'block' : 'none';\n",
              "\n",
              "      async function convertToInteractive(key) {\n",
              "        const element = document.querySelector('#df-682e3d17-4ec9-4e33-8a39-f8a809bf0577');\n",
              "        const dataTable =\n",
              "          await google.colab.kernel.invokeFunction('convertToInteractive',\n",
              "                                                    [key], {});\n",
              "        if (!dataTable) return;\n",
              "\n",
              "        const docLinkHtml = 'Like what you see? Visit the ' +\n",
              "          '<a target=\"_blank\" href=https://colab.research.google.com/notebooks/data_table.ipynb>data table notebook</a>'\n",
              "          + ' to learn more about interactive tables.';\n",
              "        element.innerHTML = '';\n",
              "        dataTable['output_type'] = 'display_data';\n",
              "        await google.colab.output.renderOutput(dataTable, element);\n",
              "        const docLink = document.createElement('div');\n",
              "        docLink.innerHTML = docLinkHtml;\n",
              "        element.appendChild(docLink);\n",
              "      }\n",
              "    </script>\n",
              "  </div>\n",
              "  \n",
              "    </div>\n",
              "  </div>\n",
              "  "
            ]
          },
          "metadata": {},
          "execution_count": 2
        }
      ],
      "source": [
        "CSV_PATH = \"/content/uts.csv\"\n",
        "df = pd.read_csv(CSV_PATH, sep=\";\", engine=\"python\")\n",
        "print(df.shape)\n",
        "df.head()"
      ]
    },
    {
      "cell_type": "markdown",
      "id": "4193c0fd",
      "metadata": {
        "id": "4193c0fd"
      },
      "source": [
        "## 2) Preprocess — pakai `overview` saja"
      ]
    },
    {
      "cell_type": "code",
      "execution_count": 3,
      "id": "c02386e1",
      "metadata": {
        "colab": {
          "base_uri": "https://localhost:8080/",
          "height": 160
        },
        "id": "c02386e1",
        "outputId": "814678b7-84eb-4b9f-b252-666204a27988"
      },
      "outputs": [
        {
          "output_type": "stream",
          "name": "stdout",
          "text": [
            "Docs: 10000 len min/med/max: 0 43 190\n"
          ]
        },
        {
          "output_type": "execute_result",
          "data": {
            "text/plain": [
              "                                                text\n",
              "0  over many missions and against impossible odds...\n",
              "1  with the price on his head ever increasing joh...\n",
              "2  while working underground to fix a water main ..."
            ],
            "text/html": [
              "\n",
              "  <div id=\"df-7bee29d9-15a8-4291-ba3b-8a25b6aed627\" class=\"colab-df-container\">\n",
              "    <div>\n",
              "<style scoped>\n",
              "    .dataframe tbody tr th:only-of-type {\n",
              "        vertical-align: middle;\n",
              "    }\n",
              "\n",
              "    .dataframe tbody tr th {\n",
              "        vertical-align: top;\n",
              "    }\n",
              "\n",
              "    .dataframe thead th {\n",
              "        text-align: right;\n",
              "    }\n",
              "</style>\n",
              "<table border=\"1\" class=\"dataframe\">\n",
              "  <thead>\n",
              "    <tr style=\"text-align: right;\">\n",
              "      <th></th>\n",
              "      <th>text</th>\n",
              "    </tr>\n",
              "  </thead>\n",
              "  <tbody>\n",
              "    <tr>\n",
              "      <th>0</th>\n",
              "      <td>over many missions and against impossible odds...</td>\n",
              "    </tr>\n",
              "    <tr>\n",
              "      <th>1</th>\n",
              "      <td>with the price on his head ever increasing joh...</td>\n",
              "    </tr>\n",
              "    <tr>\n",
              "      <th>2</th>\n",
              "      <td>while working underground to fix a water main ...</td>\n",
              "    </tr>\n",
              "  </tbody>\n",
              "</table>\n",
              "</div>\n",
              "    <div class=\"colab-df-buttons\">\n",
              "      \n",
              "  <div class=\"colab-df-container\">\n",
              "    <button class=\"colab-df-convert\" onclick=\"convertToInteractive('df-7bee29d9-15a8-4291-ba3b-8a25b6aed627')\"\n",
              "            title=\"Convert this dataframe to an interactive table.\"\n",
              "            style=\"display:none;\">\n",
              "      \n",
              "  <svg xmlns=\"http://www.w3.org/2000/svg\" height=\"24px\" viewBox=\"0 -960 960 960\">\n",
              "    <path d=\"M120-120v-720h720v720H120Zm60-500h600v-160H180v160Zm220 220h160v-160H400v160Zm0 220h160v-160H400v160ZM180-400h160v-160H180v160Zm440 0h160v-160H620v160ZM180-180h160v-160H180v160Zm440 0h160v-160H620v160Z\"/>\n",
              "  </svg>\n",
              "    </button>\n",
              "    \n",
              "  <style>\n",
              "    .colab-df-container {\n",
              "      display:flex;\n",
              "      gap: 12px;\n",
              "    }\n",
              "\n",
              "    .colab-df-convert {\n",
              "      background-color: #E8F0FE;\n",
              "      border: none;\n",
              "      border-radius: 50%;\n",
              "      cursor: pointer;\n",
              "      display: none;\n",
              "      fill: #1967D2;\n",
              "      height: 32px;\n",
              "      padding: 0 0 0 0;\n",
              "      width: 32px;\n",
              "    }\n",
              "\n",
              "    .colab-df-convert:hover {\n",
              "      background-color: #E2EBFA;\n",
              "      box-shadow: 0px 1px 2px rgba(60, 64, 67, 0.3), 0px 1px 3px 1px rgba(60, 64, 67, 0.15);\n",
              "      fill: #174EA6;\n",
              "    }\n",
              "\n",
              "    .colab-df-buttons div {\n",
              "      margin-bottom: 4px;\n",
              "    }\n",
              "\n",
              "    [theme=dark] .colab-df-convert {\n",
              "      background-color: #3B4455;\n",
              "      fill: #D2E3FC;\n",
              "    }\n",
              "\n",
              "    [theme=dark] .colab-df-convert:hover {\n",
              "      background-color: #434B5C;\n",
              "      box-shadow: 0px 1px 3px 1px rgba(0, 0, 0, 0.15);\n",
              "      filter: drop-shadow(0px 1px 2px rgba(0, 0, 0, 0.3));\n",
              "      fill: #FFFFFF;\n",
              "    }\n",
              "  </style>\n",
              "\n",
              "    <script>\n",
              "      const buttonEl =\n",
              "        document.querySelector('#df-7bee29d9-15a8-4291-ba3b-8a25b6aed627 button.colab-df-convert');\n",
              "      buttonEl.style.display =\n",
              "        google.colab.kernel.accessAllowed ? 'block' : 'none';\n",
              "\n",
              "      async function convertToInteractive(key) {\n",
              "        const element = document.querySelector('#df-7bee29d9-15a8-4291-ba3b-8a25b6aed627');\n",
              "        const dataTable =\n",
              "          await google.colab.kernel.invokeFunction('convertToInteractive',\n",
              "                                                    [key], {});\n",
              "        if (!dataTable) return;\n",
              "\n",
              "        const docLinkHtml = 'Like what you see? Visit the ' +\n",
              "          '<a target=\"_blank\" href=https://colab.research.google.com/notebooks/data_table.ipynb>data table notebook</a>'\n",
              "          + ' to learn more about interactive tables.';\n",
              "        element.innerHTML = '';\n",
              "        dataTable['output_type'] = 'display_data';\n",
              "        await google.colab.output.renderOutput(dataTable, element);\n",
              "        const docLink = document.createElement('div');\n",
              "        docLink.innerHTML = docLinkHtml;\n",
              "        element.appendChild(docLink);\n",
              "      }\n",
              "    </script>\n",
              "  </div>\n",
              "  \n",
              "    </div>\n",
              "  </div>\n",
              "  "
            ]
          },
          "metadata": {},
          "execution_count": 3
        }
      ],
      "source": [
        "USE_COL = \"overview\"\n",
        "df = df.copy()\n",
        "df[USE_COL] = df[USE_COL].fillna(\"\")\n",
        "def clean_text(s):\n",
        "    s = s.lower()\n",
        "    s = re.sub(r\"http\\S+|www\\.\\S+\",\" \",s)\n",
        "    s = re.sub(r\"[@#]\\w+\",\" \",s)\n",
        "    s = re.sub(r\"\\d+\",\" \",s)\n",
        "    s = re.sub(r\"[^\\w\\s]\",\" \",s)\n",
        "    s = re.sub(r\"\\s+\",\" \",s).strip()\n",
        "    return s\n",
        "df[\"text\"] = df[USE_COL].astype(str).map(clean_text)\n",
        "df[\"len\"] = df[\"text\"].str.split().apply(len)\n",
        "print(\"Docs:\", len(df), \"len min/med/max:\", int(df.len.min()), int(df.len.median()), int(df.len.max()))\n",
        "df[[\"text\"]].head(3)"
      ]
    },
    {
      "cell_type": "markdown",
      "id": "b6f4393a",
      "metadata": {
        "id": "b6f4393a"
      },
      "source": [
        "## 3) TF‑IDF + domain stopwords"
      ]
    },
    {
      "cell_type": "code",
      "execution_count": 4,
      "id": "573dde24",
      "metadata": {
        "colab": {
          "base_uri": "https://localhost:8080/"
        },
        "id": "573dde24",
        "outputId": "86138a5c-63b0-4815-bee6-b2239e82622a"
      },
      "outputs": [
        {
          "output_type": "stream",
          "name": "stdout",
          "text": [
            "TF-IDF: (10000, 9232)\n"
          ]
        }
      ],
      "source": [
        "# Stopwords & filtering otomatis (tanpa daftar manual)\n",
        "from sklearn.feature_extraction.text import TfidfVectorizer\n",
        "from sklearn.preprocessing import normalize\n",
        "\n",
        "MAX_FEATS = 60000\n",
        "MIN_DF    = 5          # buang kata yg sangat jarang (muncul <5 dokumen)\n",
        "MAX_DF    = 0.70       # buang kata yg terlalu umum (muncul di >70% dokumen)\n",
        "NGRAM     = (1, 2)\n",
        "\n",
        "tfidf = TfidfVectorizer(\n",
        "    max_features=MAX_FEATS,\n",
        "    min_df=MIN_DF,\n",
        "    max_df=MAX_DF,\n",
        "    ngram_range=NGRAM,\n",
        "    stop_words=\"english\",        # stopwords bawaan (otomatis)\n",
        "    strip_accents=\"unicode\",\n",
        "    sublinear_tf=True,           # tf log-scale → kurangi pengaruh kata sangat sering\n",
        "    token_pattern=r\"(?u)\\b[a-zA-Z]{2,}\\b\"  # singkirkan token 1 huruf/angka\n",
        ")\n",
        "\n",
        "X = tfidf.fit_transform(df[\"text\"])\n",
        "X = normalize(X)  # L2, sehingga Euclidean ~ Cosine\n",
        "print(\"TF-IDF:\", X.shape)\n"
      ]
    },
    {
      "cell_type": "markdown",
      "id": "d2b8d36f",
      "metadata": {
        "id": "d2b8d36f"
      },
      "source": [
        "## 4) LSA / TruncatedSVD"
      ]
    },
    {
      "cell_type": "code",
      "execution_count": 5,
      "id": "d9958005",
      "metadata": {
        "colab": {
          "base_uri": "https://localhost:8080/"
        },
        "id": "d9958005",
        "outputId": "4da91990-df8c-4892-c2af-405832358727"
      },
      "outputs": [
        {
          "output_type": "stream",
          "name": "stdout",
          "text": [
            "SVD: (10000, 300) | explained variance ≈ 0.233\n"
          ]
        }
      ],
      "source": [
        "N_COMP = 300\n",
        "svd = TruncatedSVD(n_components=N_COMP, random_state=42)\n",
        "X_svd = svd.fit_transform(X)\n",
        "X_svd = normalize(X_svd)\n",
        "print(\"SVD:\", X_svd.shape, \"| explained variance ≈\", round(svd.explained_variance_ratio_.sum(),3))"
      ]
    },
    {
      "cell_type": "markdown",
      "id": "3d3dc470",
      "metadata": {
        "id": "3d3dc470"
      },
      "source": [
        "## 5) Pilih k terbaik (Silhouette, cosine)"
      ]
    },
    {
      "cell_type": "code",
      "execution_count": 6,
      "id": "3a2c4494",
      "metadata": {
        "colab": {
          "base_uri": "https://localhost:8080/",
          "height": 755
        },
        "id": "3a2c4494",
        "outputId": "6b093141-6c42-4fce-fd11-cc27ace5f5c3"
      },
      "outputs": [
        {
          "output_type": "display_data",
          "data": {
            "text/plain": [
              "     k  silhouette   calinski    davies\n",
              "18  20    0.043904  19.655940  5.349495\n",
              "17  19    0.042694  20.255055  5.282373\n",
              "16  18    0.041660  20.170643  5.765649\n",
              "15  17    0.040009  20.644366  5.525682\n",
              "13  15    0.038444  21.517812  6.168145\n",
              "14  16    0.037792  21.034219  5.856458\n",
              "12  14    0.034705  21.627615  5.909313\n",
              "11  13    0.033187  22.247050  6.092697\n",
              "10  12    0.032622  22.830656  6.181250\n",
              "9   11    0.030154  23.167091  6.321530"
            ],
            "text/html": [
              "\n",
              "  <div id=\"df-6c80da09-2bca-4898-869b-da2e60385225\" class=\"colab-df-container\">\n",
              "    <div>\n",
              "<style scoped>\n",
              "    .dataframe tbody tr th:only-of-type {\n",
              "        vertical-align: middle;\n",
              "    }\n",
              "\n",
              "    .dataframe tbody tr th {\n",
              "        vertical-align: top;\n",
              "    }\n",
              "\n",
              "    .dataframe thead th {\n",
              "        text-align: right;\n",
              "    }\n",
              "</style>\n",
              "<table border=\"1\" class=\"dataframe\">\n",
              "  <thead>\n",
              "    <tr style=\"text-align: right;\">\n",
              "      <th></th>\n",
              "      <th>k</th>\n",
              "      <th>silhouette</th>\n",
              "      <th>calinski</th>\n",
              "      <th>davies</th>\n",
              "    </tr>\n",
              "  </thead>\n",
              "  <tbody>\n",
              "    <tr>\n",
              "      <th>18</th>\n",
              "      <td>20</td>\n",
              "      <td>0.043904</td>\n",
              "      <td>19.655940</td>\n",
              "      <td>5.349495</td>\n",
              "    </tr>\n",
              "    <tr>\n",
              "      <th>17</th>\n",
              "      <td>19</td>\n",
              "      <td>0.042694</td>\n",
              "      <td>20.255055</td>\n",
              "      <td>5.282373</td>\n",
              "    </tr>\n",
              "    <tr>\n",
              "      <th>16</th>\n",
              "      <td>18</td>\n",
              "      <td>0.041660</td>\n",
              "      <td>20.170643</td>\n",
              "      <td>5.765649</td>\n",
              "    </tr>\n",
              "    <tr>\n",
              "      <th>15</th>\n",
              "      <td>17</td>\n",
              "      <td>0.040009</td>\n",
              "      <td>20.644366</td>\n",
              "      <td>5.525682</td>\n",
              "    </tr>\n",
              "    <tr>\n",
              "      <th>13</th>\n",
              "      <td>15</td>\n",
              "      <td>0.038444</td>\n",
              "      <td>21.517812</td>\n",
              "      <td>6.168145</td>\n",
              "    </tr>\n",
              "    <tr>\n",
              "      <th>14</th>\n",
              "      <td>16</td>\n",
              "      <td>0.037792</td>\n",
              "      <td>21.034219</td>\n",
              "      <td>5.856458</td>\n",
              "    </tr>\n",
              "    <tr>\n",
              "      <th>12</th>\n",
              "      <td>14</td>\n",
              "      <td>0.034705</td>\n",
              "      <td>21.627615</td>\n",
              "      <td>5.909313</td>\n",
              "    </tr>\n",
              "    <tr>\n",
              "      <th>11</th>\n",
              "      <td>13</td>\n",
              "      <td>0.033187</td>\n",
              "      <td>22.247050</td>\n",
              "      <td>6.092697</td>\n",
              "    </tr>\n",
              "    <tr>\n",
              "      <th>10</th>\n",
              "      <td>12</td>\n",
              "      <td>0.032622</td>\n",
              "      <td>22.830656</td>\n",
              "      <td>6.181250</td>\n",
              "    </tr>\n",
              "    <tr>\n",
              "      <th>9</th>\n",
              "      <td>11</td>\n",
              "      <td>0.030154</td>\n",
              "      <td>23.167091</td>\n",
              "      <td>6.321530</td>\n",
              "    </tr>\n",
              "  </tbody>\n",
              "</table>\n",
              "</div>\n",
              "    <div class=\"colab-df-buttons\">\n",
              "      \n",
              "  <div class=\"colab-df-container\">\n",
              "    <button class=\"colab-df-convert\" onclick=\"convertToInteractive('df-6c80da09-2bca-4898-869b-da2e60385225')\"\n",
              "            title=\"Convert this dataframe to an interactive table.\"\n",
              "            style=\"display:none;\">\n",
              "      \n",
              "  <svg xmlns=\"http://www.w3.org/2000/svg\" height=\"24px\" viewBox=\"0 -960 960 960\">\n",
              "    <path d=\"M120-120v-720h720v720H120Zm60-500h600v-160H180v160Zm220 220h160v-160H400v160Zm0 220h160v-160H400v160ZM180-400h160v-160H180v160Zm440 0h160v-160H620v160ZM180-180h160v-160H180v160Zm440 0h160v-160H620v160Z\"/>\n",
              "  </svg>\n",
              "    </button>\n",
              "    \n",
              "  <style>\n",
              "    .colab-df-container {\n",
              "      display:flex;\n",
              "      gap: 12px;\n",
              "    }\n",
              "\n",
              "    .colab-df-convert {\n",
              "      background-color: #E8F0FE;\n",
              "      border: none;\n",
              "      border-radius: 50%;\n",
              "      cursor: pointer;\n",
              "      display: none;\n",
              "      fill: #1967D2;\n",
              "      height: 32px;\n",
              "      padding: 0 0 0 0;\n",
              "      width: 32px;\n",
              "    }\n",
              "\n",
              "    .colab-df-convert:hover {\n",
              "      background-color: #E2EBFA;\n",
              "      box-shadow: 0px 1px 2px rgba(60, 64, 67, 0.3), 0px 1px 3px 1px rgba(60, 64, 67, 0.15);\n",
              "      fill: #174EA6;\n",
              "    }\n",
              "\n",
              "    .colab-df-buttons div {\n",
              "      margin-bottom: 4px;\n",
              "    }\n",
              "\n",
              "    [theme=dark] .colab-df-convert {\n",
              "      background-color: #3B4455;\n",
              "      fill: #D2E3FC;\n",
              "    }\n",
              "\n",
              "    [theme=dark] .colab-df-convert:hover {\n",
              "      background-color: #434B5C;\n",
              "      box-shadow: 0px 1px 3px 1px rgba(0, 0, 0, 0.15);\n",
              "      filter: drop-shadow(0px 1px 2px rgba(0, 0, 0, 0.3));\n",
              "      fill: #FFFFFF;\n",
              "    }\n",
              "  </style>\n",
              "\n",
              "    <script>\n",
              "      const buttonEl =\n",
              "        document.querySelector('#df-6c80da09-2bca-4898-869b-da2e60385225 button.colab-df-convert');\n",
              "      buttonEl.style.display =\n",
              "        google.colab.kernel.accessAllowed ? 'block' : 'none';\n",
              "\n",
              "      async function convertToInteractive(key) {\n",
              "        const element = document.querySelector('#df-6c80da09-2bca-4898-869b-da2e60385225');\n",
              "        const dataTable =\n",
              "          await google.colab.kernel.invokeFunction('convertToInteractive',\n",
              "                                                    [key], {});\n",
              "        if (!dataTable) return;\n",
              "\n",
              "        const docLinkHtml = 'Like what you see? Visit the ' +\n",
              "          '<a target=\"_blank\" href=https://colab.research.google.com/notebooks/data_table.ipynb>data table notebook</a>'\n",
              "          + ' to learn more about interactive tables.';\n",
              "        element.innerHTML = '';\n",
              "        dataTable['output_type'] = 'display_data';\n",
              "        await google.colab.output.renderOutput(dataTable, element);\n",
              "        const docLink = document.createElement('div');\n",
              "        docLink.innerHTML = docLinkHtml;\n",
              "        element.appendChild(docLink);\n",
              "      }\n",
              "    </script>\n",
              "  </div>\n",
              "  \n",
              "    </div>\n",
              "  </div>\n",
              "  "
            ]
          },
          "metadata": {}
        },
        {
          "output_type": "display_data",
          "data": {
            "text/plain": [
              "<Figure size 600x400 with 1 Axes>"
            ],
            "image/png": "[encoded data removed]"
          },
          "metadata": {}
        }
      ],
      "source": [
        "K_MIN, K_MAX, SAMPLE = 2, 20, 4000\n",
        "idx = np.random.RandomState(42).choice(len(X_svd), size=min(SAMPLE, len(X_svd)), replace=False)\n",
        "Xs = X_svd[idx]\n",
        "\n",
        "rows = []; models = {}\n",
        "for k in range(K_MIN, K_MAX+1):\n",
        "    km = KMeans(n_clusters=k, random_state=42, n_init=10)\n",
        "    lab = km.fit_predict(Xs)\n",
        "    sil = silhouette_score(Xs, lab, metric=\"cosine\")\n",
        "    ch  = calinski_harabasz_score(Xs, lab)\n",
        "    db  = davies_bouldin_score(Xs, lab)\n",
        "    rows.append((k,sil,ch,db))\n",
        "    models[k] = km\n",
        "\n",
        "import pandas as pd, matplotlib.pyplot as plt\n",
        "eval_df = pd.DataFrame(rows, columns=[\"k\",\"silhouette\",\"calinski\",\"davies\"]).sort_values(\"silhouette\", ascending=False)\n",
        "display(eval_df.head(10))\n",
        "\n",
        "plt.figure(figsize=(6,4))\n",
        "plt.plot([r[0] for r in rows], [r[1] for r in rows], marker=\"o\")\n",
        "plt.grid(True); plt.xlabel(\"k\"); plt.ylabel(\"Silhouette (cosine)\"); plt.title(\"KMeans — Silhouette vs k (SVD)\"); plt.show()"
      ]
    },
    {
      "cell_type": "markdown",
      "source": [
        "**Interpretasi**\n",
        "\n",
        "Kurva Silhouette untuk K-Means pada ruang SVD menunjukkan tren naik perlahan dari ~0,012 (k=2) hingga maksimum ~0,044 (k=20). Nilai ini secara absolut sangat kecil, menandakan pemisahan antarkelompok lemah dan tumpang-tindih tinggi. Metrik Calinski–Harabasz tidak menampakkan puncak yang jelas, sedangkan Davies–Bouldin berada di kisaran ~5–6 tanpa penurunan tajam; keduanya menguatkan indikasi bahwa tidak ada struktur klaster yang kuat. Secara numerik, k=20 menjadi ‘terbaik’ versi Silhouette, namun peningkatan tersebut kemungkinan hanya memecah noise menjadi segmen lebih kecil, bukan membentuk topik yang benar-benar terpisah"
      ],
      "metadata": {
        "id": "2Vt6uKe8lJSh"
      },
      "id": "2Vt6uKe8lJSh"
    },
    {
      "cell_type": "markdown",
      "id": "156f57f2",
      "metadata": {
        "id": "156f57f2"
      },
      "source": [
        "## 6) Fit akhir (k terbaik)"
      ]
    },
    {
      "cell_type": "code",
      "execution_count": 7,
      "id": "e0545193",
      "metadata": {
        "colab": {
          "base_uri": "https://localhost:8080/"
        },
        "id": "e0545193",
        "outputId": "1f3759a4-c0b6-4967-85f0-fe2c7850604c"
      },
      "outputs": [
        {
          "output_type": "stream",
          "name": "stdout",
          "text": [
            "Best k = 20\n",
            "KMeans(SVD, k=20): Silhouette=0.0468 | Calinski=49.4 | Davies=5.235\n"
          ]
        }
      ],
      "source": [
        "best_k = int(eval_df.iloc[0][\"k\"])\n",
        "print(\"Best k =\", best_k)\n",
        "km = KMeans(n_clusters=best_k, random_state=42, n_init=10)\n",
        "labels = km.fit_predict(X_svd)\n",
        "df[\"cluster\"] = labels\n",
        "\n",
        "from sklearn.metrics import silhouette_score, calinski_harabasz_score, davies_bouldin_score\n",
        "sil = silhouette_score(X_svd, labels, metric=\"cosine\")\n",
        "ch  = calinski_harabasz_score(X_svd, labels)\n",
        "db  = davies_bouldin_score(X_svd, labels)\n",
        "print(f\"KMeans(SVD, k={best_k}): Silhouette={sil:.4f} | Calinski={ch:.1f} | Davies={db:.3f}\")\n",
        "\n",
        "from sklearn.metrics import pairwise_distances\n",
        "D = pairwise_distances(X_svd, km.cluster_centers_, metric=\"cosine\")\n",
        "df[\"dist\"] = D[np.arange(len(D)), labels]"
      ]
    },
    {
      "cell_type": "markdown",
      "source": [
        "**Interpretasi**\n",
        "\n",
        "Pencarian jumlah klaster memberi k terbaik = 20 dengan metrik: Silhouette = 0,0468, Calinski–Harabasz = 49,4, dan Davies–Bouldin = 5,235. Nilai Silhouette yang sangat kecil serta Davies–Bouldin yang masih tinggi (semakin kecil semakin baik) menunjukkan pemisahan klaster lemah dan tumpang-tindih yang besar; Calinski–Harabasz juga tidak mengindikasikan pemisahan yang tegas. Artinya, meskipun k=20 “terbaik” secara relatif di eksperimen ini, struktur yang terbentuk cenderung memecah noise alih-alih menangkap topik yang benar-benar berbeda."
      ],
      "metadata": {
        "id": "Rz-WJvjxlXap"
      },
      "id": "Rz-WJvjxlXap"
    },
    {
      "cell_type": "markdown",
      "id": "e92b6982",
      "metadata": {
        "id": "e92b6982"
      },
      "source": [
        "## 7) Kata kunci per cluster + contoh dokumen"
      ]
    },
    {
      "cell_type": "code",
      "execution_count": 8,
      "id": "24d9acfa",
      "metadata": {
        "colab": {
          "base_uri": "https://localhost:8080/",
          "height": 553
        },
        "id": "24d9acfa",
        "outputId": "d5770cf0-dd0c-407b-80f0-afd93c06c286"
      },
      "outputs": [
        {
          "output_type": "stream",
          "name": "stdout",
          "text": [
            "Cluster 0: los angeles, angeles, los, life, world, young, streets, gang, police, detective, lives, ex\n",
            "Cluster 1: life, love, new, young, time, live, gets, finds, career, world, lives, love life\n",
            "Cluster 2: young, friends, group, new, love, time, finds, lives, girl, film, father, wife\n",
            "Cluster 3: school, high school, high, student, students, teacher, school student, school students, senior, new, girl, life\n",
            "Cluster 4: town, small, small town, sheriff, mysterious, new, residents, young, life, group, discover, help\n",
            "Cluster 5: min, jin, hee, soo, yeong, ji, woo, jeong, day, joo, house, sex\n",
            "Cluster 6: earth, planet, alien, space, world, save, aliens, race, humans, humanity, crew, years\n",
            "Cluster 7: police, killer, detective, murder, serial, cop, serial killer, officer, case, police officer, investigation, criminal\n",
            "Cluster 8: son, father, mother, wife, life, young, man, young son, family, years, time, home\n",
            "Cluster 9: prison, released, released prison, sentence, crime, years, years prison, escape, sentenced, inmates, life, warden\n",
            "Cluster 10: world, evil, king, save, power, battle, new, ancient, stop, friends, princess, kingdom\n",
            "Cluster 11: th, century, th century, early, early th, story, england, life, late th, century france, young, france\n",
            "Cluster 12: year old, year, old, family, boy, mother, old boy, daughter, girl, life, home, old daughter\n",
            "Cluster 13: family, home, life, new, daughter, house, young, father, lives, children, soon, mother\n",
            "Cluster 14: story, true story, true, based, tells, life, love, world, tells story, based true, set, film\n",
            "Cluster 15: york, new york, new, york city, city, family, young, life, man, love, world, woman\n",
            "Cluster 16: woman, young woman, young, life, love, meets, husband, beautiful, mysterious, finds, mother, relationship\n",
            "Cluster 17: man, young man, young, life, wife, love, finds, mother, father, death, mysterious, woman\n",
            "Cluster 18: team, agent, mission, secret, fbi, cia, fbi agent, government, rescue, world, save, terrorist\n",
            "Cluster 19: war, world war, war ii, ii, world, civil war, civil, german, soldiers, end, soldier, american\n"
          ]
        },
        {
          "output_type": "execute_result",
          "data": {
            "text/plain": [
              "          id          title                                           overview\n",
              "1291   10634         Friday  Craig and Smokey are two guys in Los Angeles h...\n",
              "9041   17332    The Soloist  A Los Angeles journalist befriends a homeless ...\n",
              "3537  417644          CHiPS  The adventures of two California Highway Patro...\n",
              "6350    1281           Bean  Childlike Englishman, Mr. Bean, is an incompet...\n",
              "7311   14373  Death Wish II  Paul Kersey is again a vigilante trying to fin..."
            ],
            "text/html": [
              "\n",
              "  <div id=\"df-942f32d4-486d-4430-8ed3-ffbe33d8a430\" class=\"colab-df-container\">\n",
              "    <div>\n",
              "<style scoped>\n",
              "    .dataframe tbody tr th:only-of-type {\n",
              "        vertical-align: middle;\n",
              "    }\n",
              "\n",
              "    .dataframe tbody tr th {\n",
              "        vertical-align: top;\n",
              "    }\n",
              "\n",
              "    .dataframe thead th {\n",
              "        text-align: right;\n",
              "    }\n",
              "</style>\n",
              "<table border=\"1\" class=\"dataframe\">\n",
              "  <thead>\n",
              "    <tr style=\"text-align: right;\">\n",
              "      <th></th>\n",
              "      <th>id</th>\n",
              "      <th>title</th>\n",
              "      <th>overview</th>\n",
              "    </tr>\n",
              "  </thead>\n",
              "  <tbody>\n",
              "    <tr>\n",
              "      <th>1291</th>\n",
              "      <td>10634</td>\n",
              "      <td>Friday</td>\n",
              "      <td>Craig and Smokey are two guys in Los Angeles h...</td>\n",
              "    </tr>\n",
              "    <tr>\n",
              "      <th>9041</th>\n",
              "      <td>17332</td>\n",
              "      <td>The Soloist</td>\n",
              "      <td>A Los Angeles journalist befriends a homeless ...</td>\n",
              "    </tr>\n",
              "    <tr>\n",
              "      <th>3537</th>\n",
              "      <td>417644</td>\n",
              "      <td>CHiPS</td>\n",
              "      <td>The adventures of two California Highway Patro...</td>\n",
              "    </tr>\n",
              "    <tr>\n",
              "      <th>6350</th>\n",
              "      <td>1281</td>\n",
              "      <td>Bean</td>\n",
              "      <td>Childlike Englishman, Mr. Bean, is an incompet...</td>\n",
              "    </tr>\n",
              "    <tr>\n",
              "      <th>7311</th>\n",
              "      <td>14373</td>\n",
              "      <td>Death Wish II</td>\n",
              "      <td>Paul Kersey is again a vigilante trying to fin...</td>\n",
              "    </tr>\n",
              "  </tbody>\n",
              "</table>\n",
              "</div>\n",
              "    <div class=\"colab-df-buttons\">\n",
              "      \n",
              "  <div class=\"colab-df-container\">\n",
              "    <button class=\"colab-df-convert\" onclick=\"convertToInteractive('df-942f32d4-486d-4430-8ed3-ffbe33d8a430')\"\n",
              "            title=\"Convert this dataframe to an interactive table.\"\n",
              "            style=\"display:none;\">\n",
              "      \n",
              "  <svg xmlns=\"http://www.w3.org/2000/svg\" height=\"24px\" viewBox=\"0 -960 960 960\">\n",
              "    <path d=\"M120-120v-720h720v720H120Zm60-500h600v-160H180v160Zm220 220h160v-160H400v160Zm0 220h160v-160H400v160ZM180-400h160v-160H180v160Zm440 0h160v-160H620v160ZM180-180h160v-160H180v160Zm440 0h160v-160H620v160Z\"/>\n",
              "  </svg>\n",
              "    </button>\n",
              "    \n",
              "  <style>\n",
              "    .colab-df-container {\n",
              "      display:flex;\n",
              "      gap: 12px;\n",
              "    }\n",
              "\n",
              "    .colab-df-convert {\n",
              "      background-color: #E8F0FE;\n",
              "      border: none;\n",
              "      border-radius: 50%;\n",
              "      cursor: pointer;\n",
              "      display: none;\n",
              "      fill: #1967D2;\n",
              "      height: 32px;\n",
              "      padding: 0 0 0 0;\n",
              "      width: 32px;\n",
              "    }\n",
              "\n",
              "    .colab-df-convert:hover {\n",
              "      background-color: #E2EBFA;\n",
              "      box-shadow: 0px 1px 2px rgba(60, 64, 67, 0.3), 0px 1px 3px 1px rgba(60, 64, 67, 0.15);\n",
              "      fill: #174EA6;\n",
              "    }\n",
              "\n",
              "    .colab-df-buttons div {\n",
              "      margin-bottom: 4px;\n",
              "    }\n",
              "\n",
              "    [theme=dark] .colab-df-convert {\n",
              "      background-color: #3B4455;\n",
              "      fill: #D2E3FC;\n",
              "    }\n",
              "\n",
              "    [theme=dark] .colab-df-convert:hover {\n",
              "      background-color: #434B5C;\n",
              "      box-shadow: 0px 1px 3px 1px rgba(0, 0, 0, 0.15);\n",
              "      filter: drop-shadow(0px 1px 2px rgba(0, 0, 0, 0.3));\n",
              "      fill: #FFFFFF;\n",
              "    }\n",
              "  </style>\n",
              "\n",
              "    <script>\n",
              "      const buttonEl =\n",
              "        document.querySelector('#df-942f32d4-486d-4430-8ed3-ffbe33d8a430 button.colab-df-convert');\n",
              "      buttonEl.style.display =\n",
              "        google.colab.kernel.accessAllowed ? 'block' : 'none';\n",
              "\n",
              "      async function convertToInteractive(key) {\n",
              "        const element = document.querySelector('#df-942f32d4-486d-4430-8ed3-ffbe33d8a430');\n",
              "        const dataTable =\n",
              "          await google.colab.kernel.invokeFunction('convertToInteractive',\n",
              "                                                    [key], {});\n",
              "        if (!dataTable) return;\n",
              "\n",
              "        const docLinkHtml = 'Like what you see? Visit the ' +\n",
              "          '<a target=\"_blank\" href=https://colab.research.google.com/notebooks/data_table.ipynb>data table notebook</a>'\n",
              "          + ' to learn more about interactive tables.';\n",
              "        element.innerHTML = '';\n",
              "        dataTable['output_type'] = 'display_data';\n",
              "        await google.colab.output.renderOutput(dataTable, element);\n",
              "        const docLink = document.createElement('div');\n",
              "        docLink.innerHTML = docLinkHtml;\n",
              "        element.appendChild(docLink);\n",
              "      }\n",
              "    </script>\n",
              "  </div>\n",
              "  \n",
              "    </div>\n",
              "  </div>\n",
              "  "
            ]
          },
          "metadata": {},
          "execution_count": 8
        }
      ],
      "source": [
        "def top_terms_tfidf_by_centroid(X_sparse, labels, vectorizer, topn=12):\n",
        "    import numpy as np\n",
        "    k = labels.max()+1\n",
        "    cent = []\n",
        "    for c in range(k):\n",
        "        rows = X_sparse[labels==c]\n",
        "        cent.append(rows.mean(axis=0) if rows.shape[0] else np.zeros((1, X_sparse.shape[1])))\n",
        "    cent = np.vstack(cent); cent = np.asarray(cent).reshape(k, -1)\n",
        "    feats = vectorizer.get_feature_names_out()\n",
        "    out = []\n",
        "    for c in range(k):\n",
        "        idx = np.argsort(-cent[c])[:topn]\n",
        "        out.append((c, [feats[i] for i in idx]))\n",
        "    return out\n",
        "\n",
        "top_terms = top_terms_tfidf_by_centroid(X, labels, tfidf, topn=12)\n",
        "for c,terms in top_terms:\n",
        "    print(f\"Cluster {c}: {', '.join(terms)}\")\n",
        "\n",
        "examples = {}\n",
        "for c in sorted(df[\"cluster\"].unique()):\n",
        "    examples[c] = df[df[\"cluster\"]==c].nsmallest(5, \"dist\")[[\"id\",\"title\",\"overview\"]]\n",
        "examples[list(examples.keys())[0]].head()"
      ]
    },
    {
      "cell_type": "markdown",
      "source": [
        "**Interpretasi**\n",
        "\n",
        "C0 – Los Angeles / kriminal & geng: “los angeles, streets, gang, police, detective” → film berlatar LA bertema geng/kejahatan.\n",
        "\n",
        "C1 – Drama relasi & karier: “life, love, young, time, career, lives” → kata sangat umum; klaster kurang spesifik.\n",
        "\n",
        "C2 – Persahabatan remaja: “young, friends, group, love, girl, father, wife”.\n",
        "\n",
        "C3 – Sekolah menengah: “school, high school, students, senior”.\n",
        "\n",
        "C4 – Kota kecil & misteri: “small town, sheriff, residents, mysterious”.\n",
        "\n",
        "C5 – Nama Korea & rumah tangga: dominasi token nama (“min, jin, hee, soo, jeong… house”), indikasi sub-korpus K-drama.\n",
        "\n",
        "C6 – Fiksi ilmiah luar angkasa: “earth, planet, alien, space, save, aliens”.\n",
        "\n",
        "C7 – Polisi/detektif/kriminal: “police, detective, serial killer, cop, case, investigation”.\n",
        "\n",
        "C8 – Relasi keluarga inti: “son, father, mother, family, home”.\n",
        "\n",
        "C9 – Penjara & kejahatan: “prison, released, sentence, escape, warden”.\n",
        "\n",
        "C10 – Kerajaan & fantasi: “world, evil, king, battle, princess, kingdom”.\n",
        "\n",
        "C11 – Sejarah abad (‘th century’): token waktu sejarah/period drama.\n",
        "\n",
        "C12 – Umur & keluarga: “year old, family, daughter, mother” (masih generik).\n",
        "\n",
        "C13 – Rumah/keluarga: beririsan kuat dengan C8/C12 → indikasi overlap.\n",
        "\n",
        "C14 – Kisah berbasis fakta: “story, true story, based on true events”.\n",
        "\n",
        "C15 – New York: “york, new york, city, young”.\n",
        "\n",
        "C16 – Tokoh perempuan & relasi: “woman, young woman, husband, relationship”.\n",
        "\n",
        "C17 – Tokoh laki-laki & konflik pribadi: “man, young man, mother, death”.\n",
        "\n",
        "C18 – Agen & misi rahasia: “team, agent, mission, fbi, cia, rescue, terrorist”.\n",
        "\n",
        "C19 – Perang (WWII/civil war): “war, world war, german, soldiers”.\n",
        "\n",
        "Klasterisasi k=20 hanya menangkap tema-tema besar yang longgar—mis. kriminal/LA, sekolah, kota kecil misteri, sci-fi/alien, polisi–detektif, penjara, kerajaan/fantasi, periode sejarah, New York, agen/misi rahasia, dan perang—serta satu sub-korpus K-drama (nama-nama Korea). Namun banyak klaster masih didominasi kata sangat umum (life, young, new, world) dan tema keluarga/relasi yang berulang di beberapa klaster, menandakan tumpang-tindih tinggi dan pemisahan lemah. Hal ini konsisten dengan metrik: Silhouette sangat kecil (~0,047) dan Davies–Bouldin masih tinggi (~5,2); artinya peningkatan k cenderung memecah noise ketimbang membentuk topik yang benar-benar tegas. Singkatnya, struktur topik ada tetapi tidak kuat/tegas pada representasi saat ini."
      ],
      "metadata": {
        "id": "hZLbpXJpmBCm"
      },
      "id": "hZLbpXJpmBCm"
    },
    {
      "cell_type": "markdown",
      "id": "34b901c6",
      "metadata": {
        "id": "34b901c6"
      },
      "source": [
        "## 8) UMAP (cosine, n_neighbors besar)"
      ]
    },
    {
      "cell_type": "code",
      "execution_count": 9,
      "id": "15d23554",
      "metadata": {
        "colab": {
          "base_uri": "https://localhost:8080/",
          "height": 642
        },
        "id": "15d23554",
        "outputId": "663f7c7a-c11c-4549-94d1-1d66baec6c6a"
      },
      "outputs": [
        {
          "output_type": "stream",
          "name": "stderr",
          "text": [
            "/usr/local/lib/python3.12/dist-packages/umap/umap_.py:1952: UserWarning: n_jobs value 1 overridden to 1 by setting random_state. Use no seed for parallelism.\n",
            "  warn(\n"
          ]
        },
        {
          "output_type": "display_data",
          "data": {
            "text/plain": [
              "<Figure size 700x600 with 1 Axes>"
            ],
            "image/png": "[encoded data removed]"
          },
          "metadata": {}
        }
      ],
      "source": [
        "N_NEI, MIN_DIST = 35, 0.05\n",
        "um = umap.UMAP(n_neighbors=N_NEI, min_dist=MIN_DIST, metric=\"cosine\", random_state=42)\n",
        "X2 = um.fit_transform(X_svd)\n",
        "\n",
        "import matplotlib.pyplot as plt\n",
        "plt.figure(figsize=(7,6))\n",
        "for c in sorted(df[\"cluster\"].unique()):\n",
        "    m = df[\"cluster\"].values==c\n",
        "    plt.scatter(X2[m,0], X2[m,1], s=6, label=str(c), alpha=0.85)\n",
        "plt.legend(title=\"Cluster\", bbox_to_anchor=(1.02,1), loc=\"upper left\")\n",
        "plt.title(f\"UMAP — KMeans(SVD, k={best_k})\"); plt.xlabel(\"UMAP-1\"); plt.ylabel(\"UMAP-2\"); plt.tight_layout(); plt.show()"
      ]
    },
    {
      "cell_type": "markdown",
      "source": [
        "**Interpretasi**\n",
        "\n",
        "Sebaran titik membentuk pilar vertikal sempit dengan warna saling tumpang-tindih hampir di seluruh area; tidak terlihat “pulau” terpisah yang bersih. Ini menandakan pemisahan klaster lemah di ruang representasi saat ini—selaras dengan nilai Silhouette yang sangat kecil. Terlihat beberapa outlier di kiri/atas, tetapi mayoritas titik tetap bertumpuk, menunjukkan tema yang bercampur. Karena sumbu UMAP bersifat non-linear dan tanpa makna fisik, pola tumpang-tindih inilah yang penting: struktur topik ada namun tidak tegas, sehingga k besar cenderung hanya membagi noise."
      ],
      "metadata": {
        "id": "2TTXo0hvmYeI"
      },
      "id": "2TTXo0hvmYeI"
    },
    {
      "cell_type": "markdown",
      "id": "b1d09244",
      "metadata": {
        "id": "b1d09244"
      },
      "source": [
        "## 9) (Opsional) Sentence Embeddings"
      ]
    },
    {
      "cell_type": "code",
      "execution_count": null,
      "id": "47c17be2",
      "metadata": {
        "id": "47c17be2"
      },
      "outputs": [],
      "source": [
        "USE_SENT_EMB = False\n",
        "if USE_SENT_EMB:\n",
        "    from sentence_transformers import SentenceTransformer\n",
        "    model = SentenceTransformer(\"sentence-transformers/all-MiniLM-L6-v2\")\n",
        "    E = model.encode(df[\"text\"].tolist(), batch_size=256, show_progress_bar=True, normalize_embeddings=True)\n",
        "    idx = np.random.RandomState(42).choice(len(E), size=min(4000,len(E)), replace=False)\n",
        "    Es = E[idx]\n",
        "    rows = []\n",
        "    for k in range(2, 21):\n",
        "        km2 = KMeans(n_clusters=k, random_state=42, n_init=10)\n",
        "        lab = km2.fit_predict(Es)\n",
        "        sil = silhouette_score(Es, lab, metric=\"cosine\")\n",
        "        rows.append((k,sil))\n",
        "    print(sorted(rows, key=lambda x: -x[1])[:10])"
      ]
    },
    {
      "cell_type": "markdown",
      "id": "a30faf1a",
      "metadata": {
        "id": "a30faf1a"
      },
      "source": [
        "## 10) Ekspor artefak"
      ]
    },
    {
      "cell_type": "code",
      "execution_count": null,
      "id": "dd3e6459",
      "metadata": {
        "id": "dd3e6459"
      },
      "outputs": [],
      "source": [
        "OUT = Path(\"/content/uts_text_enhanced\")\n",
        "OUT.mkdir(exist_ok=True)\n",
        "df_out = df[[\"id\",\"title\",\"overview\",\"cluster\",\"dist\"]]\n",
        "df_out.to_csv(OUT/\"clusters_svd.csv\", index=False)\n",
        "with open(OUT/\"top_terms.json\",\"w\") as f:\n",
        "    json.dump({int(c):terms for c,terms in top_terms}, f, indent=2)\n",
        "print(\"Saved to:\", OUT)"
      ]
    }
  ],
  "metadata": {
    "colab": {
      "provenance": [],
      "include_colab_link": true
    },
    "language_info": {
      "name": "python"
    },
    "kernelspec": {
      "name": "python3",
      "display_name": "Python 3"
    }
  },
  "nbformat": 4,
  "nbformat_minor": 5
}